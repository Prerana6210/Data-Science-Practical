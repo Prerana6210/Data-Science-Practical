{
  "nbformat": 4,
  "nbformat_minor": 0,
  "metadata": {
    "colab": {
      "provenance": [],
      "authorship_tag": "ABX9TyPIMlP3FndXL5EjA8SXCJvq",
      "include_colab_link": true
    },
    "kernelspec": {
      "name": "python3",
      "display_name": "Python 3"
    },
    "language_info": {
      "name": "python"
    }
  },
  "cells": [
    {
      "cell_type": "markdown",
      "metadata": {
        "id": "view-in-github",
        "colab_type": "text"
      },
      "source": [
        "<a href=\"https://colab.research.google.com/github/Prerana6210/Data-Science-Practical/blob/main/pract1.ipynb\" target=\"_parent\"><img src=\"https://colab.research.google.com/assets/colab-badge.svg\" alt=\"Open In Colab\"/></a>"
      ]
    },
    {
      "cell_type": "code",
      "execution_count": 1,
      "metadata": {
        "colab": {
          "base_uri": "https://localhost:8080/"
        },
        "id": "ZqjNf1_meoSN",
        "outputId": "fec9631d-0e45-420f-fe5b-ed9cdccc7d47"
      },
      "outputs": [
        {
          "output_type": "stream",
          "name": "stdout",
          "text": [
            "original array [1 2 3 4 5 6]\n"
          ]
        }
      ],
      "source": [
        "import numpy as np\n",
        "array1=np.array([1,2,3,4,5,6])\n",
        "print(\"original array\",array1)"
      ]
    },
    {
      "cell_type": "code",
      "source": [
        "arr=np.array([[1,2,3,4],\n",
        "             [4,5,6,7],\n",
        "             [7,8,9,10],\n",
        "             [10,11,12,13]])\n",
        "print(\"original\",arr)\n",
        "\n",
        "swap_rows=arr[::-1,::1]\n",
        "print(\"swap_rows\",swap_rows)\n",
        "\n",
        "swap_columns=arr[::-1,::-1]\n",
        "print(\"swap_columns\",swap_columns)"
      ],
      "metadata": {
        "colab": {
          "base_uri": "https://localhost:8080/"
        },
        "id": "enUSsfPQfe8y",
        "outputId": "d11ff593-07c1-44e8-dfb5-2b3a9f1b7e16"
      },
      "execution_count": 27,
      "outputs": [
        {
          "output_type": "stream",
          "name": "stdout",
          "text": [
            "original [[ 1  2  3  4]\n",
            " [ 4  5  6  7]\n",
            " [ 7  8  9 10]\n",
            " [10 11 12 13]]\n",
            "swap_rows [[10 11 12 13]\n",
            " [ 7  8  9 10]\n",
            " [ 4  5  6  7]\n",
            " [ 1  2  3  4]]\n",
            "swap_columns [[13 12 11 10]\n",
            " [10  9  8  7]\n",
            " [ 7  6  5  4]\n",
            " [ 4  3  2  1]]\n"
          ]
        }
      ]
    },
    {
      "cell_type": "code",
      "source": [
        "swap_columns=arr[0::,::-2]\n",
        "print(\"swap_columns\",swap_columns)"
      ],
      "metadata": {
        "colab": {
          "base_uri": "https://localhost:8080/"
        },
        "id": "Zvqua_ntjNJ9",
        "outputId": "5362f3ea-6107-4c43-c2d4-9a2e9d3cb6ed"
      },
      "execution_count": 37,
      "outputs": [
        {
          "output_type": "stream",
          "name": "stdout",
          "text": [
            "swap_columns [[ 4  2]\n",
            " [ 7  5]\n",
            " [10  8]\n",
            " [13 11]]\n"
          ]
        }
      ]
    },
    {
      "cell_type": "code",
      "source": [
        "arr[:,[0,2]]=arr[:,[2,0]]\n",
        "arr"
      ],
      "metadata": {
        "colab": {
          "base_uri": "https://localhost:8080/"
        },
        "id": "zMEVkczXlY7h",
        "outputId": "41225527-90ee-4c3f-85ab-88e7f648bf5b"
      },
      "execution_count": 42,
      "outputs": [
        {
          "output_type": "execute_result",
          "data": {
            "text/plain": [
              "array([[ 3,  2,  1,  4],\n",
              "       [ 6,  5,  4,  7],\n",
              "       [ 9,  8,  7, 10],\n",
              "       [12, 11, 10, 13]])"
            ]
          },
          "metadata": {},
          "execution_count": 42
        }
      ]
    },
    {
      "cell_type": "code",
      "source": [],
      "metadata": {
        "id": "n6IYpLLoncfj"
      },
      "execution_count": null,
      "outputs": []
    }
  ]
}